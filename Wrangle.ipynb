{
  "cells": [
    {
      "cell_type": "code",
      "execution_count": null,
      "metadata": {
        "id": "CB026gqeMA8Q"
      },
      "outputs": [],
      "source": [
        "# Import libraries and read in datasets\n",
        "import pandas as pd\n",
        "import numpy as np\n",
        "import warnings\n",
        "warnings.filterwarnings('ignore')\n",
        "\n"
      ]
    },
    {
      "cell_type": "code",
      "source": [
        "from google.colab import drive\n",
        "\n",
        "drive.mount('/content/drive')"
      ],
      "metadata": {
        "colab": {
          "base_uri": "https://localhost:8080/"
        },
        "id": "RpP_i1x5MZ__",
        "outputId": "fbaf73f3-a3c1-49c8-b8c8-a972ba8e0263"
      },
      "execution_count": null,
      "outputs": [
        {
          "output_type": "stream",
          "name": "stdout",
          "text": [
            "Drive already mounted at /content/drive; to attempt to forcibly remount, call drive.mount(\"/content/drive\", force_remount=True).\n"
          ]
        }
      ]
    },
    {
      "cell_type": "code",
      "source": [
        "path = \"/content/drive/MyDrive/amazon_reviews_multilingual_US_v1_00.tsv\"\n",
        "\n",
        "apr = pd.read_csv(path,\n",
        "                       sep='\\t', error_bad_lines=False, warn_bad_lines=False)"
      ],
      "metadata": {
        "id": "MV0KijpNQIhr"
      },
      "execution_count": null,
      "outputs": []
    },
    {
      "cell_type": "code",
      "execution_count": null,
      "metadata": {
        "id": "shwyM-h3MA8S"
      },
      "outputs": [],
      "source": [
        "# Find out how many downvotes each review received\n",
        "apr['downvotes'] = apr.total_votes - apr.helpful_votes\n",
        "\n",
        "# Reorder columns\n",
        "columns = ['marketplace', 'customer_id', 'review_id', 'product_id',\n",
        "       'product_parent', 'product_title', 'product_category', 'star_rating',\n",
        "       'helpful_votes', 'downvotes', 'total_votes', 'vine', 'verified_purchase',\n",
        "       'review_headline', 'review_body', 'review_date']\n",
        "\n",
        "apr = apr[columns]"
      ]
    },
    {
      "cell_type": "code",
      "execution_count": null,
      "metadata": {
        "colab": {
          "base_uri": "https://localhost:8080/"
        },
        "id": "d0noFqrrMA8S",
        "outputId": "4d45f6fd-87f1-4586-9937-6e1d12139d4a"
      },
      "outputs": [
        {
          "output_type": "execute_result",
          "data": {
            "text/plain": [
              "array(['Books', 'Music', 'Video', 'Video DVD', 'Toys', 'Tools',\n",
              "       'Office Products', 'Video Games', 'Software',\n",
              "       'Digital Music Purchase', 'Home Entertainment', 'Electronics',\n",
              "       'Digital eBook Purchase', 'Digital Video Download', 'Kitchen',\n",
              "       'Camera', 'Outdoors', 'Musical Instruments', 'Sports', 'Watches',\n",
              "       'PC', 'Home', 'Wireless', 'Beauty', 'Baby', 'Home Improvement',\n",
              "       'Apparel', 'Shoes', 'Lawn & Garden', 'Mobile Electronics',\n",
              "       'Health & Personal Care', 'Grocery', 'Luggage',\n",
              "       'Personal Care Appliances', 'Automotive', 'Mobile Apps',\n",
              "       'Furniture', '2012-12-22', 'Pet Products'], dtype=object)"
            ]
          },
          "metadata": {},
          "execution_count": 38
        }
      ],
      "source": [
        "# Standardized product category names\n",
        "apr.product_category.replace({\n",
        "        'Digital_Music_Purchase': 'Digital Music Purchase',\n",
        "        'Digital_Ebook_Purchase': 'Digital eBook Purchase',\n",
        "        'Digital_Video_Download': 'Digital Video Download',\n",
        "        'Lawn and Garden': 'Lawn & Garden',\n",
        "        'Mobile_Electronics': 'Mobile Electronics',\n",
        "        'Personal_Care_Appliances': 'Personal Care Appliances',\n",
        "        'Mobile_Apps': 'Mobile Apps'\n",
        "    }, inplace=True)\n",
        "\n",
        "apr.product_category.unique()"
      ]
    },
    {
      "cell_type": "markdown",
      "metadata": {
        "id": "GVqTFPlnMA8T"
      },
      "source": [
        "## A Look into Our Initial Dataset"
      ]
    },
    {
      "cell_type": "code",
      "execution_count": null,
      "metadata": {
        "colab": {
          "base_uri": "https://localhost:8080/"
        },
        "id": "bAMPXYvyMA8T",
        "outputId": "18e409a3-ee79-4d57-ff25-a2a5f8192847"
      },
      "outputs": [
        {
          "output_type": "stream",
          "name": "stdout",
          "text": [
            "Reviews are taken from: 1995-08-13 to 2015-08-31\n",
            "\n",
            "Number of reviews: 6,900,886\n",
            "Number of customers: 4,097,784\n",
            "Number of product parents: 16,310\n",
            "Number of product titles: 52,326\n",
            "Number of unique products: 86,813\n",
            "Number of product categories: 39\n",
            "Number of days a review was made on: 6,916\n"
          ]
        }
      ],
      "source": [
        "# An initial look at our dataframe\n",
        "print('Reviews are taken from: {} to {}\\n'. format(sorted(apr.review_date.head(1)).pop(),\n",
        "                                                   sorted(apr.review_date.tail(1)).pop()))\n",
        "print('Number of reviews: {:,}'.format(len(apr)))\n",
        "print('Number of customers: {:,}'.format(len(apr.customer_id.unique())))\n",
        "print('Number of product parents: {:,}'.format(len(apr.product_parent.unique())))\n",
        "print('Number of product titles: {:,}'.format(len(apr.product_title.unique())))\n",
        "print('Number of unique products: {:,}'.format(len(apr.product_id.unique())))\n",
        "print('Number of product categories: {:,}'.format(len(apr.product_category.unique())))\n",
        "print('Number of days a review was made on: {:,}'.format(len(apr.review_date.unique())))"
      ]
    },
    {
      "cell_type": "code",
      "execution_count": null,
      "metadata": {
        "colab": {
          "base_uri": "https://localhost:8080/"
        },
        "id": "ZpwLq6iMMA8U",
        "outputId": "2edb69a8-7ca0-48d5-9027-3d3567ac50a3"
      },
      "outputs": [
        {
          "output_type": "execute_result",
          "data": {
            "text/plain": [
              "product_parent  product_title                                                        \n",
              "896923          For Whom The Bell Tolls                                                  8\n",
              "                FOR WHOM THE BELL TOLLS                                                  5\n",
              "                For Whom the Bell Tolls (War Promo)                                      2\n",
              "                FOR WHOM THE BELL TOLLS ~1940 BOOK CLUB EDITION                          1\n",
              "                For Whom The Bell Tolls (Turtleback School & Library Binding Edition)    1\n",
              "                For Whom the Bell Tolls (Illustrated)                                    1\n",
              "                For Whom the Bell Tolls (Scribner Classic)                               1\n",
              "                For Whom the Bell Tolls (The Scribner Library)                           1\n",
              "Name: product_title, dtype: int64"
            ]
          },
          "metadata": {},
          "execution_count": 40
        }
      ],
      "source": [
        "# Many lost unique product ids were actually small variations of the same product\n",
        "apr.groupby('product_parent')['product_title'].value_counts()[12:20]"
      ]
    },
    {
      "cell_type": "markdown",
      "metadata": {
        "id": "sVVnD7geMA8V"
      },
      "source": [
        "The mean before dropping rows is 80 purchases per product, but we wanted a higher threshold; especially because a plethora of unique products were 1 purchase products."
      ]
    },
    {
      "cell_type": "code",
      "execution_count": null,
      "metadata": {
        "colab": {
          "base_uri": "https://localhost:8080/"
        },
        "id": "YjQOpM7aMA8V",
        "outputId": "9e85f6b1-a710-4263-a561-658bca02a281"
      },
      "outputs": [
        {
          "output_type": "execute_result",
          "data": {
            "text/plain": [
              "count    86813.000000\n",
              "mean        79.491390\n",
              "std        570.110821\n",
              "min          1.000000\n",
              "25%          1.000000\n",
              "50%          6.000000\n",
              "75%         36.000000\n",
              "max      49789.000000\n",
              "Name: product_id, dtype: float64"
            ]
          },
          "metadata": {},
          "execution_count": 41
        }
      ],
      "source": [
        "# Summary statistics of original dataset\n",
        "apr.product_id.value_counts().describe()"
      ]
    },
    {
      "cell_type": "code",
      "execution_count": null,
      "metadata": {
        "colab": {
          "base_uri": "https://localhost:8080/"
        },
        "id": "vXTfbI8gMA8W",
        "outputId": "bf461ec0-7d86-41a7-c84a-b31adf8d99ba"
      },
      "outputs": [
        {
          "output_type": "stream",
          "name": "stdout",
          "text": [
            "Number of purchases: 5,834,243\n",
            "Number of unique products: 11,502\n",
            "Dataset reduced by 15.46%\n"
          ]
        }
      ],
      "source": [
        "# Number of products purchased after dropping any unique products with less than 100 purchases\n",
        "print('Number of purchases: {:,}'.format(\n",
        "    apr.groupby('product_id')['product_id'].count()[apr.groupby('product_id')['product_id'].count() >= 100].sum()))\n",
        "print('Number of unique products: {:,}'.format(\n",
        "    len(apr.groupby('product_id')['product_id'].count()[apr.groupby('product_id')['product_id'].count() >= 100])))\n",
        "print('Dataset reduced by {:.2f}%'.format((1-5833771/len(apr))*100))"
      ]
    },
    {
      "cell_type": "code",
      "execution_count": null,
      "metadata": {
        "id": "pLPTZulCMA8W"
      },
      "outputs": [],
      "source": [
        "# Extract counts on how many customers purchased a unique product\n",
        "purchased_counts = apr.product_id.value_counts().rename('purchased_counts')\n",
        "\n",
        "# Add column containing product purchased counts\n",
        "apr = apr.merge(purchased_counts.to_frame(),\n",
        "                left_on='product_id',\n",
        "                right_index=True)\n",
        "\n",
        "# Filter only products with 100 or more purchases\n",
        "apr = apr[apr.purchased_counts >= 100]"
      ]
    },
    {
      "cell_type": "markdown",
      "metadata": {
        "id": "LwyhLocXMA8W"
      },
      "source": [
        "## A Look into Our New Dataset"
      ]
    },
    {
      "cell_type": "code",
      "execution_count": null,
      "metadata": {
        "colab": {
          "base_uri": "https://localhost:8080/"
        },
        "id": "n0xXs1VhMA8W",
        "outputId": "3e970131-c861-481b-ee55-11b3a3e91161"
      },
      "outputs": [
        {
          "output_type": "stream",
          "name": "stdout",
          "text": [
            "Reviews are taken from: 1995-08-13 to 2015-08-31\n",
            "\n",
            "Number of reviews: 5,834,243\n",
            "Number of customers: 3,653,843\n",
            "Number of product parents: 6,654\n",
            "Number of product titles: 9,081\n",
            "Number of unique products: 11,502\n",
            "Number of product categories: 29\n",
            "Number of days a review was made on: 6,839\n"
          ]
        }
      ],
      "source": [
        "print('Reviews are taken from: {} to {}\\n'. format(sorted(apr.review_date.head(1)).pop(),\n",
        "                                                   sorted(apr.review_date.tail(1)).pop()))\n",
        "print('Number of reviews: {:,}'.format(len(apr)))\n",
        "print('Number of customers: {:,}'.format(len(apr.customer_id.unique())))\n",
        "print('Number of product parents: {:,}'.format(len(apr.product_parent.unique())))\n",
        "print('Number of product titles: {:,}'.format(len(apr.product_title.unique())))\n",
        "print('Number of unique products: {:,}'.format(len(apr.product_id.unique())))\n",
        "print('Number of product categories: {:,}'.format(len(apr.product_category.unique())))\n",
        "print('Number of days a review was made on: {:,}'.format(len(apr.review_date.unique())))"
      ]
    },
    {
      "cell_type": "code",
      "execution_count": null,
      "metadata": {
        "colab": {
          "base_uri": "https://localhost:8080/"
        },
        "id": "VwRLB6zZMA8Z",
        "outputId": "03a2c5d0-b636-4449-e80d-46cb1b947a29"
      },
      "outputs": [
        {
          "output_type": "execute_result",
          "data": {
            "text/plain": [
              "count    11502.000000\n",
              "mean       507.237263\n",
              "std       1496.494488\n",
              "min        100.000000\n",
              "25%        141.000000\n",
              "50%        218.000000\n",
              "75%        403.000000\n",
              "max      49789.000000\n",
              "Name: product_id, dtype: float64"
            ]
          },
          "metadata": {},
          "execution_count": 45
        }
      ],
      "source": [
        "# New summary statistics\n",
        "apr.product_id.value_counts().describe()"
      ]
    },
    {
      "cell_type": "code",
      "execution_count": null,
      "metadata": {
        "scrolled": false,
        "colab": {
          "base_uri": "https://localhost:8080/"
        },
        "id": "JvCKlJabMA8a",
        "outputId": "650a3d41-dfb3-4823-cc02-14fc9cc3ee5e"
      },
      "outputs": [
        {
          "output_type": "execute_result",
          "data": {
            "text/plain": [
              "product_category\n",
              "Automotive                    102\n",
              "Baby                         5352\n",
              "Books                      658781\n",
              "Camera                      12997\n",
              "Digital Music Purchase      39401\n",
              "Digital Video Download     887119\n",
              "Digital eBook Purchase    1170542\n",
              "Electronics                  9303\n",
              "Health & Personal Care        971\n",
              "Home                         1384\n",
              "Home Entertainment          35868\n",
              "Home Improvement             3020\n",
              "Kitchen                      1508\n",
              "Lawn & Garden                1167\n",
              "Mobile Apps               1451751\n",
              "Music                      511926\n",
              "Musical Instruments          9473\n",
              "Office Products              1836\n",
              "Outdoors                     2575\n",
              "PC                          48917\n",
              "Shoes                         281\n",
              "Sports                       3483\n",
              "Tools                        7023\n",
              "Toys                        41353\n",
              "Video                        9080\n",
              "Video DVD                  874995\n",
              "Video Games                 14693\n",
              "Watches                      8756\n",
              "Wireless                    20586\n",
              "Name: product_category, dtype: int64"
            ]
          },
          "metadata": {},
          "execution_count": 46
        }
      ],
      "source": [
        "# Number of reviews in each product category\n",
        "apr.groupby('product_category')['product_category'].count()"
      ]
    },
    {
      "cell_type": "code",
      "execution_count": null,
      "metadata": {
        "scrolled": false,
        "colab": {
          "base_uri": "https://localhost:8080/"
        },
        "id": "xvOBBosOMA8a",
        "outputId": "5d5f03a4-4d3b-4fc7-a696-b98ab232eeca"
      },
      "outputs": [
        {
          "output_type": "execute_result",
          "data": {
            "text/plain": [
              "product_parent  product_id\n",
              "225472          B00K7C17QW    4008\n",
              "896923          0684803356     329\n",
              "                B000FC0OOU     211\n",
              "1002835         B000002GB9     132\n",
              "1005285         B004PAHZMC     283\n",
              "Name: product_id, dtype: int64"
            ]
          },
          "metadata": {},
          "execution_count": 47
        }
      ],
      "source": [
        "apr.groupby('product_parent')['product_id'].value_counts().head()"
      ]
    },
    {
      "cell_type": "code",
      "execution_count": null,
      "metadata": {
        "scrolled": true,
        "colab": {
          "base_uri": "https://localhost:8080/"
        },
        "id": "Z_84tQjXMA8a",
        "outputId": "f3c042f2-d662-407c-f6d3-041ae7c846bf"
      },
      "outputs": [
        {
          "output_type": "execute_result",
          "data": {
            "text/plain": [
              "product_parent  product_title                                                      \n",
              "225472          CSI: Hidden Crimes                                                     4008\n",
              "896923          For Whom the Bell Tolls                                                 329\n",
              "                For Whom the Bell Tolls (Scribner Classics)                             211\n",
              "1002835         The Grand Illusion                                                      132\n",
              "1005285         Neat-Oh! LEGO Star Wars ZipBin Battle Bridge 500 Brick Storage Case     283\n",
              "Name: product_title, dtype: int64"
            ]
          },
          "metadata": {},
          "execution_count": 48
        }
      ],
      "source": [
        "apr.groupby('product_parent')['product_title'].value_counts().head()"
      ]
    },
    {
      "cell_type": "code",
      "execution_count": null,
      "metadata": {
        "colab": {
          "base_uri": "https://localhost:8080/"
        },
        "id": "olH8hPBeMA8b",
        "outputId": "602ccaed-e0e7-4079-9b3d-22426e2cba08"
      },
      "outputs": [
        {
          "output_type": "execute_result",
          "data": {
            "text/plain": [
              "product_parent  product_category      \n",
              "225472          Mobile Apps               4008\n",
              "896923          Books                      329\n",
              "                Digital eBook Purchase     211\n",
              "1002835         Music                      132\n",
              "1005285         Toys                       283\n",
              "Name: product_category, dtype: int64"
            ]
          },
          "metadata": {},
          "execution_count": 49
        }
      ],
      "source": [
        "apr.groupby('product_parent')['product_category'].value_counts().head()"
      ]
    },
    {
      "cell_type": "code",
      "execution_count": null,
      "metadata": {
        "scrolled": false,
        "colab": {
          "base_uri": "https://localhost:8080/"
        },
        "id": "DyfzaR1vMA8c",
        "outputId": "d0d13b3b-05c7-41a2-ab1a-037b59dc5b96"
      },
      "outputs": [
        {
          "output_type": "execute_result",
          "data": {
            "text/plain": [
              "product_parent  product_title                              \n",
              "999720718       Skipping Christmas: A Novel                    719\n",
              "                The Grapes of Wrath                            706\n",
              "                The Partner                                    494\n",
              "                The Partner: A Novel                           453\n",
              "                Skipping Christmas                             256\n",
              "                The Grapes of Wrath (Centennial Edition)       205\n",
              "                The Grapes of Wrath (20th Century Classics)    200\n",
              "Name: product_title, dtype: int64"
            ]
          },
          "metadata": {},
          "execution_count": 50
        }
      ],
      "source": [
        "example = apr[apr.product_parent == 999720718]\n",
        "example.groupby('product_parent')['product_title'].value_counts()"
      ]
    },
    {
      "cell_type": "code",
      "execution_count": null,
      "metadata": {
        "colab": {
          "base_uri": "https://localhost:8080/"
        },
        "id": "ad8taZHAMA8c",
        "outputId": "6fa240c9-b4bc-4247-cbe5-26f01a38c2b1"
      },
      "outputs": [
        {
          "output_type": "execute_result",
          "data": {
            "text/plain": [
              "product_parent  product_title                                                   \n",
              "382448153       The Girl Who Kicked the Hornet's Nest (Millennium Series Book 3)    1804\n",
              "                The Girl Who Played with Fire (Millennium Series Book 2)            1569\n",
              "                The Girl Who Kicked the Hornet's Nest (Millennium Trilogy)          1093\n",
              "                The Girl Who Played with Fire (Millennium Series)                   1091\n",
              "                The Girl Who Played with Fire (Millennium )                          455\n",
              "                The Girl Who Kicked the Hornet's Nest                                304\n",
              "                The Girl Who Kicked the Hornets' Nest (Millennium Series Book 3)     199\n",
              "                The Girl Who Kicked the Hornet's Nest (Millennium Series)            168\n",
              "                The Girl Who Played With Fire (Millennium Series)                    152\n",
              "Name: product_title, dtype: int64"
            ]
          },
          "metadata": {},
          "execution_count": 51
        }
      ],
      "source": [
        "example = apr[apr.product_parent == 382448153]\n",
        "example.groupby('product_parent')['product_title'].value_counts()"
      ]
    },
    {
      "cell_type": "code",
      "execution_count": null,
      "metadata": {
        "colab": {
          "base_uri": "https://localhost:8080/"
        },
        "id": "61GHT14RMA8c",
        "outputId": "cc27dbe2-6da5-481d-c711-74dd706133d7"
      },
      "outputs": [
        {
          "output_type": "execute_result",
          "data": {
            "text/plain": [
              "product_parent  product_title                                             \n",
              "825691170       The Maze Runner (The Maze Runner, Book 1)                     5288\n",
              "                The Kill Order (Prequel)                                       929\n",
              "                The Maze Runner (Book 1)                                       905\n",
              "                The Maze Runner Series Complete Collection (Maze Runner)       530\n",
              "                The Maze Runner Series (Maze Runner)                           360\n",
              "                The Maze Runner (Maze Runner, Book One)                        242\n",
              "                The Kill Order: Book Four; Origin (The Maze Runner Series)     235\n",
              "                The Maze Runner Trilogy (Maze Runner)                          193\n",
              "                The Kill Order (The Maze Runner)                               136\n",
              "Name: product_title, dtype: int64"
            ]
          },
          "metadata": {},
          "execution_count": 52
        }
      ],
      "source": [
        "example = apr[apr.product_parent == 825691170]\n",
        "example.groupby('product_parent')['product_title'].value_counts()"
      ]
    },
    {
      "cell_type": "code",
      "execution_count": null,
      "metadata": {
        "colab": {
          "base_uri": "https://localhost:8080/"
        },
        "id": "c2GjG3ftMA8d",
        "outputId": "730c50c1-129a-404f-923f-a732493ffa1a"
      },
      "outputs": [
        {
          "output_type": "stream",
          "name": "stdout",
          "text": [
            "MISSING ROWS per COLUMN\n",
            "marketplace: 0, 0.00%\n",
            "customer_id: 0, 0.00%\n",
            "review_id: 0, 0.00%\n",
            "product_id: 0, 0.00%\n",
            "product_parent: 0, 0.00%\n",
            "product_title: 0, 0.00%\n",
            "product_category: 0, 0.00%\n",
            "star_rating: 0, 0.00%\n",
            "helpful_votes: 0, 0.00%\n",
            "downvotes: 0, 0.00%\n",
            "total_votes: 0, 0.00%\n",
            "vine: 0, 0.00%\n",
            "verified_purchase: 0, 0.00%\n",
            "review_headline: 59, 0.00%\n",
            "review_body: 57, 0.00%\n",
            "review_date: 257, 0.00%\n",
            "purchased_counts: 0, 0.00%\n"
          ]
        }
      ],
      "source": [
        "def missing(dataset):\n",
        "    columns = dataset.columns\n",
        "    print('MISSING ROWS per COLUMN')\n",
        "    for column in columns:\n",
        "        percentage = (dataset[column].isnull().sum() / len(dataset)) * 100\n",
        "        print('{}: {}, {:0.2f}%'.format(column, dataset[column].isnull().sum(), percentage))\n",
        "\n",
        "missing(apr)"
      ]
    },
    {
      "cell_type": "code",
      "execution_count": null,
      "metadata": {
        "scrolled": true,
        "colab": {
          "base_uri": "https://localhost:8080/"
        },
        "id": "e8pD29SHMA8d",
        "outputId": "eaeeada2-aa8e-4878-87f6-b06421f733c2"
      },
      "outputs": [
        {
          "output_type": "stream",
          "name": "stdout",
          "text": [
            "MISSING ROWS per COLUMN\n",
            "marketplace: 0, 0.00%\n",
            "customer_id: 0, 0.00%\n",
            "review_id: 0, 0.00%\n",
            "product_id: 0, 0.00%\n",
            "product_parent: 0, 0.00%\n",
            "product_title: 0, 0.00%\n",
            "product_category: 0, 0.00%\n",
            "star_rating: 0, 0.00%\n",
            "helpful_votes: 0, 0.00%\n",
            "downvotes: 0, 0.00%\n",
            "total_votes: 0, 0.00%\n",
            "vine: 0, 0.00%\n",
            "verified_purchase: 0, 0.00%\n",
            "review_headline: 0, 0.00%\n",
            "review_body: 0, 0.00%\n",
            "review_date: 0, 0.00%\n",
            "purchased_counts: 0, 0.00%\n"
          ]
        }
      ],
      "source": [
        "apr.dropna(axis=0, inplace=True)\n",
        "missing(apr)"
      ]
    },
    {
      "cell_type": "code",
      "execution_count": null,
      "metadata": {
        "id": "1GateiuVMA8d"
      },
      "outputs": [],
      "source": [
        "# Reset index and drop unimportant columns\n",
        "apr = apr.reset_index().drop(['index', 'marketplace', 'vine'], axis=1)"
      ]
    },
    {
      "cell_type": "markdown",
      "metadata": {
        "id": "jZ9EA0fbMA8d"
      },
      "source": [
        "## A Look into Our Final Dataset"
      ]
    },
    {
      "cell_type": "code",
      "execution_count": null,
      "metadata": {
        "colab": {
          "base_uri": "https://localhost:8080/"
        },
        "id": "x4namq8zMA8e",
        "outputId": "8ee7a218-95db-48ab-8046-9592e451b250"
      },
      "outputs": [
        {
          "output_type": "execute_result",
          "data": {
            "text/plain": [
              "Y    4365715\n",
              "N    1468155\n",
              "Name: verified_purchase, dtype: int64"
            ]
          },
          "metadata": {},
          "execution_count": 56
        }
      ],
      "source": [
        "apr['verified_purchase'].value_counts()"
      ]
    },
    {
      "cell_type": "code",
      "execution_count": null,
      "metadata": {
        "colab": {
          "base_uri": "https://localhost:8080/"
        },
        "id": "oeMU1EdDMA8e",
        "outputId": "0dd23935-840f-41ea-9c34-73509c43eaee"
      },
      "outputs": [
        {
          "output_type": "execute_result",
          "data": {
            "text/plain": [
              "star_rating\n",
              "1.0     347001\n",
              "2.0     236052\n",
              "3.0     454752\n",
              "4.0    1074800\n",
              "5.0    3721265\n",
              "Name: star_rating, dtype: int64"
            ]
          },
          "metadata": {},
          "execution_count": 57
        }
      ],
      "source": [
        "apr.groupby('star_rating')['star_rating'].count()"
      ]
    },
    {
      "cell_type": "code",
      "execution_count": null,
      "metadata": {
        "colab": {
          "base_uri": "https://localhost:8080/"
        },
        "id": "HWsQFWp7MA8e",
        "outputId": "e2d61295-2ebb-4f6f-bc4a-22545b638048"
      },
      "outputs": [
        {
          "output_type": "stream",
          "name": "stdout",
          "text": [
            "Reviews are taken from: 1995-08-13 to 2015-08-31\n",
            "\n",
            "Number of reviews: 5,833,870\n",
            "Number of customers: 3,653,661\n",
            "Number of product parents: 6,654\n",
            "Number of product titles: 9,081\n",
            "Number of unique products: 11,502\n",
            "Number of product categories: 29\n",
            "Number of days a review was made on: 6,838\n"
          ]
        }
      ],
      "source": [
        "# An initial look at our dataframe\n",
        "print('Reviews are taken from: {} to {}\\n'. format(sorted(apr.review_date.head(1)).pop(),\n",
        "                                                   sorted(apr.review_date.tail(1)).pop()))\n",
        "print('Number of reviews: {:,}'.format(len(apr)))\n",
        "print('Number of customers: {:,}'.format(len(apr.customer_id.unique())))\n",
        "print('Number of product parents: {:,}'.format(len(apr.product_parent.unique())))\n",
        "print('Number of product titles: {:,}'.format(len(apr.product_title.unique())))\n",
        "print('Number of unique products: {:,}'.format(len(apr.product_id.unique())))\n",
        "print('Number of product categories: {:,}'.format(len(apr.product_category.unique())))\n",
        "print('Number of days a review was made on: {:,}'.format(len(apr.review_date.unique())))"
      ]
    },
    {
      "cell_type": "code",
      "execution_count": null,
      "metadata": {
        "colab": {
          "base_uri": "https://localhost:8080/"
        },
        "id": "LpagUqp5MA8e",
        "outputId": "ceef5ccb-7631-4c0a-8353-cee14e681180"
      },
      "outputs": [
        {
          "output_type": "stream",
          "name": "stdout",
          "text": [
            "<class 'pandas.core.frame.DataFrame'>\n",
            "RangeIndex: 5833870 entries, 0 to 5833869\n",
            "Data columns (total 15 columns):\n",
            " #   Column             Dtype  \n",
            "---  ------             -----  \n",
            " 0   customer_id        int64  \n",
            " 1   review_id          object \n",
            " 2   product_id         object \n",
            " 3   product_parent     int64  \n",
            " 4   product_title      object \n",
            " 5   product_category   object \n",
            " 6   star_rating        float64\n",
            " 7   helpful_votes      float64\n",
            " 8   downvotes          float64\n",
            " 9   total_votes        float64\n",
            " 10  verified_purchase  object \n",
            " 11  review_headline    object \n",
            " 12  review_body        object \n",
            " 13  review_date        object \n",
            " 14  purchased_counts   int64  \n",
            "dtypes: float64(4), int64(3), object(8)\n",
            "memory usage: 667.6+ MB\n"
          ]
        }
      ],
      "source": [
        "apr.info()"
      ]
    },
    {
      "cell_type": "code",
      "execution_count": null,
      "metadata": {
        "colab": {
          "base_uri": "https://localhost:8080/",
          "height": 565
        },
        "id": "PPx4lALjMA8f",
        "outputId": "9146510b-e99d-49d4-98a9-704b58ead708"
      },
      "outputs": [
        {
          "output_type": "execute_result",
          "data": {
            "text/plain": [
              "   customer_id       review_id  product_id  product_parent  \\\n",
              "0     53096384   R63J84G1LOX6R  1563890119       763187671   \n",
              "1     52741846  R3Q01UU0UZY3GH  1563890119       763187671   \n",
              "2     52249743  R22W00B604VKCQ  1563890119       763187671   \n",
              "3     51796203  R1FKT8F96WD4JC  1563890119       763187671   \n",
              "4     51864502  R1NDDVLJ1EWKYR  1563890119       763187671   \n",
              "\n",
              "                                product_title product_category  star_rating  \\\n",
              "0  The Sandman Vol. 1: Preludes and Nocturnes            Books          4.0   \n",
              "1  The Sandman Vol. 1: Preludes and Nocturnes            Books          5.0   \n",
              "2  The Sandman Vol. 1: Preludes and Nocturnes            Books          5.0   \n",
              "3  The Sandman Vol. 1: Preludes and Nocturnes            Books          5.0   \n",
              "4  The Sandman Vol. 1: Preludes and Nocturnes            Books          5.0   \n",
              "\n",
              "   helpful_votes  downvotes  total_votes verified_purchase  \\\n",
              "0            0.0        1.0          1.0                 N   \n",
              "1            0.0        0.0          0.0                 N   \n",
              "2            0.0        0.0          0.0                 N   \n",
              "3            0.0        0.0          0.0                 N   \n",
              "4            2.0        0.0          2.0                 N   \n",
              "\n",
              "                                    review_headline  \\\n",
              "0                           ignore the review below   \n",
              "1               Gaiman with yet another masterpiece   \n",
              "2  Breath taking, wonderful, amazing, mind tingling   \n",
              "3              The beginning of a wonderful journey   \n",
              "4      Mythology, literature, and a damn good read!   \n",
              "\n",
              "                                         review_body review_date  \\\n",
              "0  this is the first 8 issues of the series. it i...  1995-08-13   \n",
              "1  This book, like most tpb's in the Vertigo line...  1998-04-15   \n",
              "2  Neil Gaiman, has taken a simple idea and turne...  1998-10-08   \n",
              "3  The Sandman is, in my opinion the best whole c...  1999-01-21   \n",
              "4  I always hated comic books -- there was nothin...  1999-03-01   \n",
              "\n",
              "   purchased_counts  \n",
              "0               137  \n",
              "1               137  \n",
              "2               137  \n",
              "3               137  \n",
              "4               137  "
            ],
            "text/html": [
              "\n",
              "\n",
              "  <div id=\"df-e0c89177-f4a7-4e51-8b89-57e481eb4fa2\">\n",
              "    <div class=\"colab-df-container\">\n",
              "      <div>\n",
              "<style scoped>\n",
              "    .dataframe tbody tr th:only-of-type {\n",
              "        vertical-align: middle;\n",
              "    }\n",
              "\n",
              "    .dataframe tbody tr th {\n",
              "        vertical-align: top;\n",
              "    }\n",
              "\n",
              "    .dataframe thead th {\n",
              "        text-align: right;\n",
              "    }\n",
              "</style>\n",
              "<table border=\"1\" class=\"dataframe\">\n",
              "  <thead>\n",
              "    <tr style=\"text-align: right;\">\n",
              "      <th></th>\n",
              "      <th>customer_id</th>\n",
              "      <th>review_id</th>\n",
              "      <th>product_id</th>\n",
              "      <th>product_parent</th>\n",
              "      <th>product_title</th>\n",
              "      <th>product_category</th>\n",
              "      <th>star_rating</th>\n",
              "      <th>helpful_votes</th>\n",
              "      <th>downvotes</th>\n",
              "      <th>total_votes</th>\n",
              "      <th>verified_purchase</th>\n",
              "      <th>review_headline</th>\n",
              "      <th>review_body</th>\n",
              "      <th>review_date</th>\n",
              "      <th>purchased_counts</th>\n",
              "    </tr>\n",
              "  </thead>\n",
              "  <tbody>\n",
              "    <tr>\n",
              "      <th>0</th>\n",
              "      <td>53096384</td>\n",
              "      <td>R63J84G1LOX6R</td>\n",
              "      <td>1563890119</td>\n",
              "      <td>763187671</td>\n",
              "      <td>The Sandman Vol. 1: Preludes and Nocturnes</td>\n",
              "      <td>Books</td>\n",
              "      <td>4.0</td>\n",
              "      <td>0.0</td>\n",
              "      <td>1.0</td>\n",
              "      <td>1.0</td>\n",
              "      <td>N</td>\n",
              "      <td>ignore the review below</td>\n",
              "      <td>this is the first 8 issues of the series. it i...</td>\n",
              "      <td>1995-08-13</td>\n",
              "      <td>137</td>\n",
              "    </tr>\n",
              "    <tr>\n",
              "      <th>1</th>\n",
              "      <td>52741846</td>\n",
              "      <td>R3Q01UU0UZY3GH</td>\n",
              "      <td>1563890119</td>\n",
              "      <td>763187671</td>\n",
              "      <td>The Sandman Vol. 1: Preludes and Nocturnes</td>\n",
              "      <td>Books</td>\n",
              "      <td>5.0</td>\n",
              "      <td>0.0</td>\n",
              "      <td>0.0</td>\n",
              "      <td>0.0</td>\n",
              "      <td>N</td>\n",
              "      <td>Gaiman with yet another masterpiece</td>\n",
              "      <td>This book, like most tpb's in the Vertigo line...</td>\n",
              "      <td>1998-04-15</td>\n",
              "      <td>137</td>\n",
              "    </tr>\n",
              "    <tr>\n",
              "      <th>2</th>\n",
              "      <td>52249743</td>\n",
              "      <td>R22W00B604VKCQ</td>\n",
              "      <td>1563890119</td>\n",
              "      <td>763187671</td>\n",
              "      <td>The Sandman Vol. 1: Preludes and Nocturnes</td>\n",
              "      <td>Books</td>\n",
              "      <td>5.0</td>\n",
              "      <td>0.0</td>\n",
              "      <td>0.0</td>\n",
              "      <td>0.0</td>\n",
              "      <td>N</td>\n",
              "      <td>Breath taking, wonderful, amazing, mind tingling</td>\n",
              "      <td>Neil Gaiman, has taken a simple idea and turne...</td>\n",
              "      <td>1998-10-08</td>\n",
              "      <td>137</td>\n",
              "    </tr>\n",
              "    <tr>\n",
              "      <th>3</th>\n",
              "      <td>51796203</td>\n",
              "      <td>R1FKT8F96WD4JC</td>\n",
              "      <td>1563890119</td>\n",
              "      <td>763187671</td>\n",
              "      <td>The Sandman Vol. 1: Preludes and Nocturnes</td>\n",
              "      <td>Books</td>\n",
              "      <td>5.0</td>\n",
              "      <td>0.0</td>\n",
              "      <td>0.0</td>\n",
              "      <td>0.0</td>\n",
              "      <td>N</td>\n",
              "      <td>The beginning of a wonderful journey</td>\n",
              "      <td>The Sandman is, in my opinion the best whole c...</td>\n",
              "      <td>1999-01-21</td>\n",
              "      <td>137</td>\n",
              "    </tr>\n",
              "    <tr>\n",
              "      <th>4</th>\n",
              "      <td>51864502</td>\n",
              "      <td>R1NDDVLJ1EWKYR</td>\n",
              "      <td>1563890119</td>\n",
              "      <td>763187671</td>\n",
              "      <td>The Sandman Vol. 1: Preludes and Nocturnes</td>\n",
              "      <td>Books</td>\n",
              "      <td>5.0</td>\n",
              "      <td>2.0</td>\n",
              "      <td>0.0</td>\n",
              "      <td>2.0</td>\n",
              "      <td>N</td>\n",
              "      <td>Mythology, literature, and a damn good read!</td>\n",
              "      <td>I always hated comic books -- there was nothin...</td>\n",
              "      <td>1999-03-01</td>\n",
              "      <td>137</td>\n",
              "    </tr>\n",
              "  </tbody>\n",
              "</table>\n",
              "</div>\n",
              "      <button class=\"colab-df-convert\" onclick=\"convertToInteractive('df-e0c89177-f4a7-4e51-8b89-57e481eb4fa2')\"\n",
              "              title=\"Convert this dataframe to an interactive table.\"\n",
              "              style=\"display:none;\">\n",
              "\n",
              "  <svg xmlns=\"http://www.w3.org/2000/svg\" height=\"24px\"viewBox=\"0 0 24 24\"\n",
              "       width=\"24px\">\n",
              "    <path d=\"M0 0h24v24H0V0z\" fill=\"none\"/>\n",
              "    <path d=\"M18.56 5.44l.94 2.06.94-2.06 2.06-.94-2.06-.94-.94-2.06-.94 2.06-2.06.94zm-11 1L8.5 8.5l.94-2.06 2.06-.94-2.06-.94L8.5 2.5l-.94 2.06-2.06.94zm10 10l.94 2.06.94-2.06 2.06-.94-2.06-.94-.94-2.06-.94 2.06-2.06.94z\"/><path d=\"M17.41 7.96l-1.37-1.37c-.4-.4-.92-.59-1.43-.59-.52 0-1.04.2-1.43.59L10.3 9.45l-7.72 7.72c-.78.78-.78 2.05 0 2.83L4 21.41c.39.39.9.59 1.41.59.51 0 1.02-.2 1.41-.59l7.78-7.78 2.81-2.81c.8-.78.8-2.07 0-2.86zM5.41 20L4 18.59l7.72-7.72 1.47 1.35L5.41 20z\"/>\n",
              "  </svg>\n",
              "      </button>\n",
              "\n",
              "\n",
              "\n",
              "    <div id=\"df-984937e5-bbe0-42d8-9e8b-88bd43d5d54a\">\n",
              "      <button class=\"colab-df-quickchart\" onclick=\"quickchart('df-984937e5-bbe0-42d8-9e8b-88bd43d5d54a')\"\n",
              "              title=\"Suggest charts.\"\n",
              "              style=\"display:none;\">\n",
              "\n",
              "<svg xmlns=\"http://www.w3.org/2000/svg\" height=\"24px\"viewBox=\"0 0 24 24\"\n",
              "     width=\"24px\">\n",
              "    <g>\n",
              "        <path d=\"M19 3H5c-1.1 0-2 .9-2 2v14c0 1.1.9 2 2 2h14c1.1 0 2-.9 2-2V5c0-1.1-.9-2-2-2zM9 17H7v-7h2v7zm4 0h-2V7h2v10zm4 0h-2v-4h2v4z\"/>\n",
              "    </g>\n",
              "</svg>\n",
              "      </button>\n",
              "    </div>\n",
              "\n",
              "<style>\n",
              "  .colab-df-quickchart {\n",
              "    background-color: #E8F0FE;\n",
              "    border: none;\n",
              "    border-radius: 50%;\n",
              "    cursor: pointer;\n",
              "    display: none;\n",
              "    fill: #1967D2;\n",
              "    height: 32px;\n",
              "    padding: 0 0 0 0;\n",
              "    width: 32px;\n",
              "  }\n",
              "\n",
              "  .colab-df-quickchart:hover {\n",
              "    background-color: #E2EBFA;\n",
              "    box-shadow: 0px 1px 2px rgba(60, 64, 67, 0.3), 0px 1px 3px 1px rgba(60, 64, 67, 0.15);\n",
              "    fill: #174EA6;\n",
              "  }\n",
              "\n",
              "  [theme=dark] .colab-df-quickchart {\n",
              "    background-color: #3B4455;\n",
              "    fill: #D2E3FC;\n",
              "  }\n",
              "\n",
              "  [theme=dark] .colab-df-quickchart:hover {\n",
              "    background-color: #434B5C;\n",
              "    box-shadow: 0px 1px 3px 1px rgba(0, 0, 0, 0.15);\n",
              "    filter: drop-shadow(0px 1px 2px rgba(0, 0, 0, 0.3));\n",
              "    fill: #FFFFFF;\n",
              "  }\n",
              "</style>\n",
              "\n",
              "    <script>\n",
              "      async function quickchart(key) {\n",
              "        const containerElement = document.querySelector('#' + key);\n",
              "        const charts = await google.colab.kernel.invokeFunction(\n",
              "            'suggestCharts', [key], {});\n",
              "      }\n",
              "    </script>\n",
              "\n",
              "      <script>\n",
              "\n",
              "function displayQuickchartButton(domScope) {\n",
              "  let quickchartButtonEl =\n",
              "    domScope.querySelector('#df-984937e5-bbe0-42d8-9e8b-88bd43d5d54a button.colab-df-quickchart');\n",
              "  quickchartButtonEl.style.display =\n",
              "    google.colab.kernel.accessAllowed ? 'block' : 'none';\n",
              "}\n",
              "\n",
              "        displayQuickchartButton(document);\n",
              "      </script>\n",
              "      <style>\n",
              "    .colab-df-container {\n",
              "      display:flex;\n",
              "      flex-wrap:wrap;\n",
              "      gap: 12px;\n",
              "    }\n",
              "\n",
              "    .colab-df-convert {\n",
              "      background-color: #E8F0FE;\n",
              "      border: none;\n",
              "      border-radius: 50%;\n",
              "      cursor: pointer;\n",
              "      display: none;\n",
              "      fill: #1967D2;\n",
              "      height: 32px;\n",
              "      padding: 0 0 0 0;\n",
              "      width: 32px;\n",
              "    }\n",
              "\n",
              "    .colab-df-convert:hover {\n",
              "      background-color: #E2EBFA;\n",
              "      box-shadow: 0px 1px 2px rgba(60, 64, 67, 0.3), 0px 1px 3px 1px rgba(60, 64, 67, 0.15);\n",
              "      fill: #174EA6;\n",
              "    }\n",
              "\n",
              "    [theme=dark] .colab-df-convert {\n",
              "      background-color: #3B4455;\n",
              "      fill: #D2E3FC;\n",
              "    }\n",
              "\n",
              "    [theme=dark] .colab-df-convert:hover {\n",
              "      background-color: #434B5C;\n",
              "      box-shadow: 0px 1px 3px 1px rgba(0, 0, 0, 0.15);\n",
              "      filter: drop-shadow(0px 1px 2px rgba(0, 0, 0, 0.3));\n",
              "      fill: #FFFFFF;\n",
              "    }\n",
              "  </style>\n",
              "\n",
              "      <script>\n",
              "        const buttonEl =\n",
              "          document.querySelector('#df-e0c89177-f4a7-4e51-8b89-57e481eb4fa2 button.colab-df-convert');\n",
              "        buttonEl.style.display =\n",
              "          google.colab.kernel.accessAllowed ? 'block' : 'none';\n",
              "\n",
              "        async function convertToInteractive(key) {\n",
              "          const element = document.querySelector('#df-e0c89177-f4a7-4e51-8b89-57e481eb4fa2');\n",
              "          const dataTable =\n",
              "            await google.colab.kernel.invokeFunction('convertToInteractive',\n",
              "                                                     [key], {});\n",
              "          if (!dataTable) return;\n",
              "\n",
              "          const docLinkHtml = 'Like what you see? Visit the ' +\n",
              "            '<a target=\"_blank\" href=https://colab.research.google.com/notebooks/data_table.ipynb>data table notebook</a>'\n",
              "            + ' to learn more about interactive tables.';\n",
              "          element.innerHTML = '';\n",
              "          dataTable['output_type'] = 'display_data';\n",
              "          await google.colab.output.renderOutput(dataTable, element);\n",
              "          const docLink = document.createElement('div');\n",
              "          docLink.innerHTML = docLinkHtml;\n",
              "          element.appendChild(docLink);\n",
              "        }\n",
              "      </script>\n",
              "    </div>\n",
              "  </div>\n"
            ]
          },
          "metadata": {},
          "execution_count": 60
        }
      ],
      "source": [
        "apr.head()"
      ]
    },
    {
      "cell_type": "markdown",
      "metadata": {
        "id": "Q7McYn04MA8f"
      },
      "source": [
        "## Output Cleaned Dataset to New CSV File"
      ]
    },
    {
      "cell_type": "code",
      "execution_count": null,
      "metadata": {
        "colab": {
          "base_uri": "https://localhost:8080/",
          "height": 34
        },
        "id": "ndCamsRbMA8f",
        "outputId": "5d2a982d-be70-4dad-b6c8-8bd9085fd1f9"
      },
      "outputs": [
        {
          "output_type": "display_data",
          "data": {
            "text/plain": [
              "<IPython.core.display.Javascript object>"
            ],
            "application/javascript": [
              "\n",
              "    async function download(id, filename, size) {\n",
              "      if (!google.colab.kernel.accessAllowed) {\n",
              "        return;\n",
              "      }\n",
              "      const div = document.createElement('div');\n",
              "      const label = document.createElement('label');\n",
              "      label.textContent = `Downloading \"${filename}\": `;\n",
              "      div.appendChild(label);\n",
              "      const progress = document.createElement('progress');\n",
              "      progress.max = size;\n",
              "      div.appendChild(progress);\n",
              "      document.body.appendChild(div);\n",
              "\n",
              "      const buffers = [];\n",
              "      let downloaded = 0;\n",
              "\n",
              "      const channel = await google.colab.kernel.comms.open(id);\n",
              "      // Send a message to notify the kernel that we're ready.\n",
              "      channel.send({})\n",
              "\n",
              "      for await (const message of channel.messages) {\n",
              "        // Send a message to notify the kernel that we're ready.\n",
              "        channel.send({})\n",
              "        if (message.buffers) {\n",
              "          for (const buffer of message.buffers) {\n",
              "            buffers.push(buffer);\n",
              "            downloaded += buffer.byteLength;\n",
              "            progress.value = downloaded;\n",
              "          }\n",
              "        }\n",
              "      }\n",
              "      const blob = new Blob(buffers, {type: 'application/binary'});\n",
              "      const a = document.createElement('a');\n",
              "      a.href = window.URL.createObjectURL(blob);\n",
              "      a.download = filename;\n",
              "      div.appendChild(a);\n",
              "      a.click();\n",
              "      div.remove();\n",
              "    }\n",
              "  "
            ]
          },
          "metadata": {}
        },
        {
          "output_type": "display_data",
          "data": {
            "text/plain": [
              "<IPython.core.display.Javascript object>"
            ],
            "application/javascript": [
              "download(\"download_3dd99c00-4904-447e-9e70-8bf40d78d955\", \"apr.csv\", 2983559307)"
            ]
          },
          "metadata": {}
        }
      ],
      "source": [
        "apr.to_csv('apr.csv')\n",
        "from google.colab import files\n",
        "files.download('apr.csv')"
      ]
    },
    {
      "cell_type": "code",
      "source": [],
      "metadata": {
        "id": "TK-nFn8CPMyH"
      },
      "execution_count": null,
      "outputs": []
    }
  ],
  "metadata": {
    "kernelspec": {
      "display_name": "Python 3",
      "language": "python",
      "name": "python3"
    },
    "language_info": {
      "codemirror_mode": {
        "name": "ipython",
        "version": 3
      },
      "file_extension": ".py",
      "mimetype": "text/x-python",
      "name": "python",
      "nbconvert_exporter": "python",
      "pygments_lexer": "ipython3",
      "version": "3.7.1"
    },
    "colab": {
      "provenance": []
    }
  },
  "nbformat": 4,
  "nbformat_minor": 0
}